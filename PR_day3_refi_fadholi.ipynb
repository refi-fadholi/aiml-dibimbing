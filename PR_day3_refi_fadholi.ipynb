{
  "cells": [
    {
      "cell_type": "markdown",
      "metadata": {
        "id": "view-in-github",
        "colab_type": "text"
      },
      "source": [
        "<a href=\"https://colab.research.google.com/github/refi-fadholi/aiml-dibimbing/blob/001_python/PR_day3_refi_fadholi.ipynb\" target=\"_parent\"><img src=\"https://colab.research.google.com/assets/colab-badge.svg\" alt=\"Open In Colab\"/></a>"
      ]
    },
    {
      "cell_type": "markdown",
      "id": "5485f2b3",
      "metadata": {
        "id": "5485f2b3"
      },
      "source": [
        "## Poin-poin Assignment\n",
        "1. Buatlah class untuk kasus evaluasi regresi maupun klasifikasi\n",
        "2. Bandingkan hasil anda dengan libraries yg dibuat dengan libraries scikit learn.\n",
        "3. referensi rumus : https://arifromadhan19-medium-com.translate.goog/part-1-regression-and-classification-model-evaluation-bc7f6ab3b4dd?_x_tr_sl=en&_x_tr_tl=id&_x_tr_hl=id&_x_tr_pto=tc&_x_tr_hist=true\n",
        "4. Perlu label actual dan prediksi untuk klasifikasi maupun regresi, gunakan label berikut ini :\n",
        "\n",
        "### 1. Label Klasifikasi :\n",
        "#### Data dummy untuk klasifikasi (1: positive, 0: negative)\n",
        "- actual_labels = [1, 0, 1, 1, 0, 1, 0, 1, 1, 0, 1, 0, 0, 1, 1, 0, 0, 1, 0, 1, 1, 0, 0, 1, 1, 0, 0, 1, 0, 1]\n",
        "- predicted_labels = [1, 0, 1, 1, 0, 0, 1, 1, 0, 0, 1, 0, 1, 1, 0, 0, 0, 1, 0, 1, 1, 0, 0, 1, 1, 0, 0, 1, 1, 1]\n",
        "\n",
        "### 2. Label Regresi :\n",
        "#### Data dummy untuk regresi\n",
        "- actual_values = [10, 15, 20, 25, 30, 35, 40, 45, 50, 55, 60, 65, 70, 75, 80, 85, 90, 95, 100, 105, 110, 115, 120, 125, 130, 135, 140, 145, 150, 155]\n",
        "- predicted_values = [12, 18, 22, 28, 29, 38, 42, 48, 51, 58, 62, 68, 73, 78, 82, 88, 92, 96, 102, 110, 112, 118, 122, 128, 133, 138, 142, 148, 152, 158]"
      ]
    },
    {
      "cell_type": "markdown",
      "id": "13e59d69",
      "metadata": {
        "id": "13e59d69"
      },
      "source": [
        "### Assignment 1 Poin (50)\n",
        "1. buatlah class untuk evaluasi pada klasifikasi\n",
        "2. Bandingkan antara class yg anda buat dengan libraries pada sklearn"
      ]
    },
    {
      "cell_type": "code",
      "execution_count": null,
      "id": "06ff06f3",
      "metadata": {
        "id": "06ff06f3",
        "colab": {
          "base_uri": "https://localhost:8080/"
        },
        "outputId": "14780dbe-a560-44ed-d2e3-2678f91af745"
      },
      "outputs": [
        {
          "output_type": "stream",
          "name": "stdout",
          "text": [
            "Dari kelas Klasifikasi:\n",
            "\n",
            "Recall = 0.8125\n",
            "Precision = 0.8125\n",
            "Accuracy = 0.8\n",
            "F1 Score = 0.8125\n"
          ]
        }
      ],
      "source": [
        "#Tambahkan cell jika dibutuhkan\n",
        "# adding your code here\n",
        "\n",
        "#Class Klasifikasi\n",
        "\n",
        "class Klasifikasi:\n",
        "\n",
        "      tp = fp = tn = fn = 1;\n",
        "\n",
        "      def __init__(self, actual, predicted):\n",
        "\n",
        "          self.actual = actual\n",
        "          self.predicted = predicted\n",
        "\n",
        "      def get_confussion_matrix(self):\n",
        "\n",
        "          arr_tp = [idx for idx, val in enumerate(self.actual) if val == 1 and self.predicted[idx] == 1]\n",
        "          self.tp = len(arr_tp)\n",
        "\n",
        "          arr_fp = [idx for idx, val in enumerate(self.actual) if val == 0 and self.predicted[idx] == 1]\n",
        "          self.fp = len(arr_fp)\n",
        "\n",
        "          arr_fn = [idx for idx, val in enumerate(self.actual) if val == 1 and self.predicted[idx] == 0]\n",
        "          self.fn = len(arr_fn)\n",
        "\n",
        "          arr_tn = [idx for idx, val in enumerate(self.actual) if val == 0 and self.predicted[idx] == 0]\n",
        "          self.tn = len(arr_tn)\n",
        "\n",
        "\n",
        "      def get_recall_score(self):\n",
        "\n",
        "          return self.tp / (self.tp + self.fn)\n",
        "\n",
        "\n",
        "      def get_precision_score(self):\n",
        "\n",
        "          return self.tp / (self.tp + self.fp)\n",
        "\n",
        "\n",
        "      def get_accuracy_score(self):\n",
        "\n",
        "          return (self.tn + self.tp) / (self.tn + self.tp + self.fn + self.fp)\n",
        "\n",
        "\n",
        "      def get_f1_score(self):\n",
        "\n",
        "          return (2 * self.get_precision_score() * self.get_recall_score()) / (self.get_precision_score() + self.get_recall_score())\n",
        "\n",
        "\n",
        "actual_labels = [1, 0, 1, 1, 0, 1, 0, 1, 1, 0, 1, 0, 0, 1, 1, 0, 0, 1, 0, 1, 1, 0, 0, 1, 1, 0, 0, 1, 0, 1]\n",
        "predicted_labels = [1, 0, 1, 1, 0, 0, 1, 1, 0, 0, 1, 0, 1, 1, 0, 0, 0, 1, 0, 1, 1, 0, 0, 1, 1, 0, 0, 1, 1, 1]\n",
        "\n",
        "klas = Klasifikasi(actual_labels, predicted_labels)\n",
        "klas.get_confussion_matrix()\n",
        "\n",
        "print(\"Dari kelas Klasifikasi:\\n\")\n",
        "print(f\"Recall = {klas.get_recall_score()}\")\n",
        "print(f\"Precision = {klas.get_precision_score()}\")\n",
        "print(f\"Accuracy = {klas.get_accuracy_score()}\")\n",
        "print(f\"F1 Score = {klas.get_f1_score()}\")\n"
      ]
    },
    {
      "cell_type": "code",
      "execution_count": null,
      "id": "4f25e25e",
      "metadata": {
        "id": "4f25e25e"
      },
      "outputs": [],
      "source": [
        "# Label hasil dari scikit-learn\n",
        "\n",
        "from sklearn.metrics import recall_score, precision_score, f1_score, accuracy_score"
      ]
    },
    {
      "cell_type": "code",
      "execution_count": null,
      "id": "dc0801a7",
      "metadata": {
        "id": "dc0801a7",
        "colab": {
          "base_uri": "https://localhost:8080/"
        },
        "outputId": "0cc5d388-9bd6-4751-9f6d-1636c5d9eab3"
      },
      "outputs": [
        {
          "output_type": "stream",
          "name": "stdout",
          "text": [
            "Dari Scikit Learn:\n",
            "\n",
            "Recall = 0.8125\n",
            "Precision = 0.8125\n",
            "Accuracy = 0.8\n",
            "F1 Score = 0.8125\n"
          ]
        }
      ],
      "source": [
        "recall = recall_score(actual_labels, predicted_labels)\n",
        "precision = precision_score(actual_labels, predicted_labels)\n",
        "accuracy = accuracy_score(actual_labels, predicted_labels)\n",
        "f1score = f1_score(actual_labels, predicted_labels)\n",
        "\n",
        "print(\"Dari Scikit Learn:\\n\")\n",
        "print(f\"Recall = {recall}\")\n",
        "print(f\"Precision = {precision}\")\n",
        "print(f\"Accuracy = {accuracy}\")\n",
        "print(f\"F1 Score = {f1score}\")"
      ]
    },
    {
      "cell_type": "markdown",
      "id": "eb1fb60a",
      "metadata": {
        "id": "eb1fb60a"
      },
      "source": [
        "### Assignment 2 Poin (50)\n",
        "1. buatlah class untuk evaluasi pada regresi\n",
        "2. Bandingkan antara class yg anda buat dengan libraries pada sklearn"
      ]
    },
    {
      "cell_type": "code",
      "execution_count": null,
      "id": "7ed74993",
      "metadata": {
        "id": "7ed74993",
        "colab": {
          "base_uri": "https://localhost:8080/"
        },
        "outputId": "7f6d6455-2055-4eee-ec79-e5113e751555"
      },
      "outputs": [
        {
          "output_type": "stream",
          "name": "stdout",
          "text": [
            "Dari kelas Regresi:\n",
            "\n",
            "Mean Squared Error = 6.9\n",
            "Mean Absolute Error = 2.5\n",
            "R2 Score = 0.9963159065628476\n"
          ]
        }
      ],
      "source": [
        "#Tambahkan cell jika dibutuhkan\n",
        "# adding your code here\n",
        "\n",
        "#Class Regresi\n",
        "\n",
        "import numpy as np\n",
        "\n",
        "class Regresi:\n",
        "\n",
        "      def __init__(self, actual, predicted):\n",
        "\n",
        "          self.actual = actual\n",
        "          self.predicted = predicted\n",
        "\n",
        "      def get_mse(self):\n",
        "\n",
        "          #Selisih kuadrat\n",
        "          arr_selisih = [((val - self.predicted[idx]) ** 2) for idx, val in enumerate(self.actual)]\n",
        "          return (sum(arr_selisih) / len(arr_selisih))\n",
        "\n",
        "\n",
        "      def get_mae(self):\n",
        "\n",
        "          #Selisih kuadrat\n",
        "          arr_selisih = [abs(val - self.predicted[idx]) for idx, val in enumerate(self.actual)]\n",
        "          return sum(arr_selisih) / len(arr_selisih)\n",
        "\n",
        "\n",
        "      def get_r2_score(self):\n",
        "\n",
        "          mean_actual = sum(self.actual) / len(self.actual)\n",
        "\n",
        "          arr_error = np.subtract(self.actual, self.predicted)\n",
        "          arr_error2 = np.square(arr_error)\n",
        "\n",
        "          arr_errmean = np.subtract(self.actual, mean_actual)\n",
        "          arr_errmean2 = np.square(arr_errmean)\n",
        "\n",
        "          return 1 - (sum(arr_error2) / sum(arr_errmean2))\n",
        "\n",
        "\n",
        "actual_values_reg = [10, 15, 20, 25, 30, 35, 40, 45, 50, 55, 60, 65, 70, 75, 80, 85, 90, 95, 100, 105, 110, 115, 120, 125, 130, 135, 140, 145, 150, 155]\n",
        "predicted_values_reg = [12, 18, 22, 28, 29, 38, 42, 48, 51, 58, 62, 68, 73, 78, 82, 88, 92, 96, 102, 110, 112, 118, 122, 128, 133, 138, 142, 148, 152, 158]\n",
        "\n",
        "reg = Regresi(actual_values_reg, predicted_values_reg)\n",
        "\n",
        "print(\"Dari kelas Regresi:\\n\")\n",
        "print(f\"Mean Squared Error = {reg.get_mse()}\")\n",
        "print(f\"Mean Absolute Error = {reg.get_mae()}\")\n",
        "print(f\"R2 Score = {reg.get_r2_score()}\")\n"
      ]
    },
    {
      "cell_type": "code",
      "execution_count": null,
      "id": "c6469e2b",
      "metadata": {
        "id": "c6469e2b",
        "colab": {
          "base_uri": "https://localhost:8080/"
        },
        "outputId": "b46f2d91-eeaf-46f8-ce3c-6f9e0495d141"
      },
      "outputs": [
        {
          "output_type": "stream",
          "name": "stdout",
          "text": [
            "Dari Scikit Learn:\n",
            "\n",
            "Mean Squared Error = 6.9\n",
            "Mean Absolute Error = 2.5\n",
            "R2 = 0.9963159065628476\n"
          ]
        }
      ],
      "source": [
        "# Label hasil dari scikit-learn\n",
        "from sklearn.metrics import mean_squared_error, mean_absolute_error, r2_score\n",
        "import numpy as np\n",
        "\n",
        "\n",
        "print(\"Dari Scikit Learn:\\n\")\n",
        "print(f\"Mean Squared Error = {mean_squared_error(actual_values_reg, predicted_values_reg)}\")\n",
        "print(f\"Mean Absolute Error = {mean_absolute_error(actual_values_reg, predicted_values_reg)}\")\n",
        "print(f\"R2 = {r2_score(actual_values_reg, predicted_values_reg)}\")\n"
      ]
    }
  ],
  "metadata": {
    "colab": {
      "provenance": [],
      "include_colab_link": true
    },
    "kernelspec": {
      "display_name": "Python 3 (ipykernel)",
      "language": "python",
      "name": "python3"
    },
    "language_info": {
      "codemirror_mode": {
        "name": "ipython",
        "version": 3
      },
      "file_extension": ".py",
      "mimetype": "text/x-python",
      "name": "python",
      "nbconvert_exporter": "python",
      "pygments_lexer": "ipython3",
      "version": "3.11.4"
    }
  },
  "nbformat": 4,
  "nbformat_minor": 5
}